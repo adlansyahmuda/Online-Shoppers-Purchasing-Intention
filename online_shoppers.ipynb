{
  "nbformat": 4,
  "nbformat_minor": 0,
  "metadata": {
    "colab": {
      "name": "06211740000074-06211740000094.ipynb",
      "provenance": []
    },
    "kernelspec": {
      "name": "python3",
      "display_name": "Python 3"
    }
  },
  "cells": [
    {
      "cell_type": "code",
      "metadata": {
        "id": "tGTKU_5zAJ5Q",
        "colab_type": "code",
        "colab": {}
      },
      "source": [
        "import pandas as pd\n",
        "import numpy as np \n",
        "import matplotlib.pyplot as plt\n",
        "import seaborn as sns\n",
        "from sklearn.model_selection import train_test_split\n",
        "from sklearn.preprocessing import StandardScaler\n",
        "from imblearn.over_sampling import SMOTE"
      ],
      "execution_count": 0,
      "outputs": []
    },
    {
      "cell_type": "code",
      "metadata": {
        "id": "IK3RKfjW_8co",
        "colab_type": "code",
        "colab": {}
      },
      "source": [
        "url= 'https://raw.githubusercontent.com/Ayuradha/Dataset/master/online_shopper.csv'\n",
        "df = pd.read_csv(url, error_bad_lines=False)"
      ],
      "execution_count": 0,
      "outputs": []
    },
    {
      "cell_type": "code",
      "metadata": {
        "id": "BNekPYE-YHPI",
        "colab_type": "code",
        "outputId": "67b51ab6-9bd7-4be9-dfe8-9273ffe763a8",
        "colab": {
          "base_uri": "https://localhost:8080/",
          "height": 340
        }
      },
      "source": [
        "df.isnull().sum()"
      ],
      "execution_count": 266,
      "outputs": [
        {
          "output_type": "execute_result",
          "data": {
            "text/plain": [
              "Administrative             0\n",
              "Administrative_Duration    0\n",
              "Informational              0\n",
              "Informational_Duration     0\n",
              "ProductRelated             0\n",
              "ProductRelated_Duration    0\n",
              "BounceRates                0\n",
              "ExitRates                  0\n",
              "PageValues                 0\n",
              "SpecialDay                 0\n",
              "Month                      0\n",
              "OperatingSystems           0\n",
              "Browser                    0\n",
              "Region                     0\n",
              "TrafficType                0\n",
              "VisitorType                0\n",
              "Weekend                    0\n",
              "Revenue                    0\n",
              "dtype: int64"
            ]
          },
          "metadata": {
            "tags": []
          },
          "execution_count": 266
        }
      ]
    },
    {
      "cell_type": "code",
      "metadata": {
        "id": "EyLH29OBboJk",
        "colab_type": "code",
        "outputId": "34275447-bb41-4983-f059-205764dcbb82",
        "colab": {
          "base_uri": "https://localhost:8080/",
          "height": 442
        }
      },
      "source": [
        "df.info()"
      ],
      "execution_count": 267,
      "outputs": [
        {
          "output_type": "stream",
          "text": [
            "<class 'pandas.core.frame.DataFrame'>\n",
            "RangeIndex: 12330 entries, 0 to 12329\n",
            "Data columns (total 18 columns):\n",
            " #   Column                   Non-Null Count  Dtype  \n",
            "---  ------                   --------------  -----  \n",
            " 0   Administrative           12330 non-null  int64  \n",
            " 1   Administrative_Duration  12330 non-null  float64\n",
            " 2   Informational            12330 non-null  int64  \n",
            " 3   Informational_Duration   12330 non-null  float64\n",
            " 4   ProductRelated           12330 non-null  int64  \n",
            " 5   ProductRelated_Duration  12330 non-null  float64\n",
            " 6   BounceRates              12330 non-null  float64\n",
            " 7   ExitRates                12330 non-null  float64\n",
            " 8   PageValues               12330 non-null  float64\n",
            " 9   SpecialDay               12330 non-null  float64\n",
            " 10  Month                    12330 non-null  object \n",
            " 11  OperatingSystems         12330 non-null  int64  \n",
            " 12  Browser                  12330 non-null  int64  \n",
            " 13  Region                   12330 non-null  int64  \n",
            " 14  TrafficType              12330 non-null  int64  \n",
            " 15  VisitorType              12330 non-null  object \n",
            " 16  Weekend                  12330 non-null  bool   \n",
            " 17  Revenue                  12330 non-null  bool   \n",
            "dtypes: bool(2), float64(7), int64(7), object(2)\n",
            "memory usage: 1.5+ MB\n"
          ],
          "name": "stdout"
        }
      ]
    },
    {
      "cell_type": "code",
      "metadata": {
        "id": "-pbcgpr3ZbhA",
        "colab_type": "code",
        "outputId": "ae5df735-fb87-485d-ce05-00558c21380d",
        "colab": {
          "base_uri": "https://localhost:8080/",
          "height": 224
        }
      },
      "source": [
        "df.head()"
      ],
      "execution_count": 268,
      "outputs": [
        {
          "output_type": "execute_result",
          "data": {
            "text/html": [
              "<div>\n",
              "<style scoped>\n",
              "    .dataframe tbody tr th:only-of-type {\n",
              "        vertical-align: middle;\n",
              "    }\n",
              "\n",
              "    .dataframe tbody tr th {\n",
              "        vertical-align: top;\n",
              "    }\n",
              "\n",
              "    .dataframe thead th {\n",
              "        text-align: right;\n",
              "    }\n",
              "</style>\n",
              "<table border=\"1\" class=\"dataframe\">\n",
              "  <thead>\n",
              "    <tr style=\"text-align: right;\">\n",
              "      <th></th>\n",
              "      <th>Administrative</th>\n",
              "      <th>Administrative_Duration</th>\n",
              "      <th>Informational</th>\n",
              "      <th>Informational_Duration</th>\n",
              "      <th>ProductRelated</th>\n",
              "      <th>ProductRelated_Duration</th>\n",
              "      <th>BounceRates</th>\n",
              "      <th>ExitRates</th>\n",
              "      <th>PageValues</th>\n",
              "      <th>SpecialDay</th>\n",
              "      <th>Month</th>\n",
              "      <th>OperatingSystems</th>\n",
              "      <th>Browser</th>\n",
              "      <th>Region</th>\n",
              "      <th>TrafficType</th>\n",
              "      <th>VisitorType</th>\n",
              "      <th>Weekend</th>\n",
              "      <th>Revenue</th>\n",
              "    </tr>\n",
              "  </thead>\n",
              "  <tbody>\n",
              "    <tr>\n",
              "      <th>0</th>\n",
              "      <td>0</td>\n",
              "      <td>0.0</td>\n",
              "      <td>0</td>\n",
              "      <td>0.0</td>\n",
              "      <td>1</td>\n",
              "      <td>0.000000</td>\n",
              "      <td>0.20</td>\n",
              "      <td>0.20</td>\n",
              "      <td>0.0</td>\n",
              "      <td>0.0</td>\n",
              "      <td>Feb</td>\n",
              "      <td>1</td>\n",
              "      <td>1</td>\n",
              "      <td>1</td>\n",
              "      <td>1</td>\n",
              "      <td>Returning_Visitor</td>\n",
              "      <td>False</td>\n",
              "      <td>False</td>\n",
              "    </tr>\n",
              "    <tr>\n",
              "      <th>1</th>\n",
              "      <td>0</td>\n",
              "      <td>0.0</td>\n",
              "      <td>0</td>\n",
              "      <td>0.0</td>\n",
              "      <td>2</td>\n",
              "      <td>64.000000</td>\n",
              "      <td>0.00</td>\n",
              "      <td>0.10</td>\n",
              "      <td>0.0</td>\n",
              "      <td>0.0</td>\n",
              "      <td>Feb</td>\n",
              "      <td>2</td>\n",
              "      <td>2</td>\n",
              "      <td>1</td>\n",
              "      <td>2</td>\n",
              "      <td>Returning_Visitor</td>\n",
              "      <td>False</td>\n",
              "      <td>False</td>\n",
              "    </tr>\n",
              "    <tr>\n",
              "      <th>2</th>\n",
              "      <td>0</td>\n",
              "      <td>0.0</td>\n",
              "      <td>0</td>\n",
              "      <td>0.0</td>\n",
              "      <td>1</td>\n",
              "      <td>0.000000</td>\n",
              "      <td>0.20</td>\n",
              "      <td>0.20</td>\n",
              "      <td>0.0</td>\n",
              "      <td>0.0</td>\n",
              "      <td>Feb</td>\n",
              "      <td>4</td>\n",
              "      <td>1</td>\n",
              "      <td>9</td>\n",
              "      <td>3</td>\n",
              "      <td>Returning_Visitor</td>\n",
              "      <td>False</td>\n",
              "      <td>False</td>\n",
              "    </tr>\n",
              "    <tr>\n",
              "      <th>3</th>\n",
              "      <td>0</td>\n",
              "      <td>0.0</td>\n",
              "      <td>0</td>\n",
              "      <td>0.0</td>\n",
              "      <td>2</td>\n",
              "      <td>2.666667</td>\n",
              "      <td>0.05</td>\n",
              "      <td>0.14</td>\n",
              "      <td>0.0</td>\n",
              "      <td>0.0</td>\n",
              "      <td>Feb</td>\n",
              "      <td>3</td>\n",
              "      <td>2</td>\n",
              "      <td>2</td>\n",
              "      <td>4</td>\n",
              "      <td>Returning_Visitor</td>\n",
              "      <td>False</td>\n",
              "      <td>False</td>\n",
              "    </tr>\n",
              "    <tr>\n",
              "      <th>4</th>\n",
              "      <td>0</td>\n",
              "      <td>0.0</td>\n",
              "      <td>0</td>\n",
              "      <td>0.0</td>\n",
              "      <td>10</td>\n",
              "      <td>627.500000</td>\n",
              "      <td>0.02</td>\n",
              "      <td>0.05</td>\n",
              "      <td>0.0</td>\n",
              "      <td>0.0</td>\n",
              "      <td>Feb</td>\n",
              "      <td>3</td>\n",
              "      <td>3</td>\n",
              "      <td>1</td>\n",
              "      <td>4</td>\n",
              "      <td>Returning_Visitor</td>\n",
              "      <td>True</td>\n",
              "      <td>False</td>\n",
              "    </tr>\n",
              "  </tbody>\n",
              "</table>\n",
              "</div>"
            ],
            "text/plain": [
              "   Administrative  Administrative_Duration  ...  Weekend  Revenue\n",
              "0               0                      0.0  ...    False    False\n",
              "1               0                      0.0  ...    False    False\n",
              "2               0                      0.0  ...    False    False\n",
              "3               0                      0.0  ...    False    False\n",
              "4               0                      0.0  ...     True    False\n",
              "\n",
              "[5 rows x 18 columns]"
            ]
          },
          "metadata": {
            "tags": []
          },
          "execution_count": 268
        }
      ]
    },
    {
      "cell_type": "code",
      "metadata": {
        "id": "Nyb94VsCZIhY",
        "colab_type": "code",
        "outputId": "111f6cee-74f9-46e2-e443-8e94542f0cff",
        "colab": {
          "base_uri": "https://localhost:8080/",
          "height": 314
        }
      },
      "source": [
        "from matplotlib.pyplot import suptitle\n",
        "from seaborn import despine\n",
        "\n",
        "sns.set(style=\"whitegrid\")\n",
        "\n",
        "ax=sns.countplot(x='Revenue',palette=\"Set3\", data=df)\n",
        "ax.set_xticklabels([\"No\",\"Yes\"])\n",
        "ax.set_ylabel(\"Count\")\n",
        "ax.set_xlabel(\"Revenue\")\n",
        "suptitle(\"Distribution of Revenue\")\n",
        "despine()"
      ],
      "execution_count": 293,
      "outputs": [
        {
          "output_type": "display_data",
          "data": {
            "image/png": "[encoded data removed]",
            "text/plain": [
              "<Figure size 432x288 with 1 Axes>"
            ]
          },
          "metadata": {
            "tags": []
          }
        }
      ]
    },
    {
      "cell_type": "code",
      "metadata": {
        "id": "GvUrYPFeaK3R",
        "colab_type": "code",
        "outputId": "acd22ad8-eecc-4578-986b-72260e6cadb4",
        "colab": {
          "base_uri": "https://localhost:8080/",
          "height": 224
        }
      },
      "source": [
        "\n",
        "from sklearn.preprocessing import LabelEncoder\n",
        "df2 = df.apply(lambda x: LabelEncoder().fit_transform(x) if x.dtype == 'object' else x)\n",
        "df1=df2.apply(lambda x: LabelEncoder().fit_transform(x) if x.dtype == 'bool' else x)\n",
        "df1.head()"
      ],
      "execution_count": 270,
      "outputs": [
        {
          "output_type": "execute_result",
          "data": {
            "text/html": [
              "<div>\n",
              "<style scoped>\n",
              "    .dataframe tbody tr th:only-of-type {\n",
              "        vertical-align: middle;\n",
              "    }\n",
              "\n",
              "    .dataframe tbody tr th {\n",
              "        vertical-align: top;\n",
              "    }\n",
              "\n",
              "    .dataframe thead th {\n",
              "        text-align: right;\n",
              "    }\n",
              "</style>\n",
              "<table border=\"1\" class=\"dataframe\">\n",
              "  <thead>\n",
              "    <tr style=\"text-align: right;\">\n",
              "      <th></th>\n",
              "      <th>Administrative</th>\n",
              "      <th>Administrative_Duration</th>\n",
              "      <th>Informational</th>\n",
              "      <th>Informational_Duration</th>\n",
              "      <th>ProductRelated</th>\n",
              "      <th>ProductRelated_Duration</th>\n",
              "      <th>BounceRates</th>\n",
              "      <th>ExitRates</th>\n",
              "      <th>PageValues</th>\n",
              "      <th>SpecialDay</th>\n",
              "      <th>Month</th>\n",
              "      <th>OperatingSystems</th>\n",
              "      <th>Browser</th>\n",
              "      <th>Region</th>\n",
              "      <th>TrafficType</th>\n",
              "      <th>VisitorType</th>\n",
              "      <th>Weekend</th>\n",
              "      <th>Revenue</th>\n",
              "    </tr>\n",
              "  </thead>\n",
              "  <tbody>\n",
              "    <tr>\n",
              "      <th>0</th>\n",
              "      <td>0</td>\n",
              "      <td>0.0</td>\n",
              "      <td>0</td>\n",
              "      <td>0.0</td>\n",
              "      <td>1</td>\n",
              "      <td>0.000000</td>\n",
              "      <td>0.20</td>\n",
              "      <td>0.20</td>\n",
              "      <td>0.0</td>\n",
              "      <td>0.0</td>\n",
              "      <td>2</td>\n",
              "      <td>1</td>\n",
              "      <td>1</td>\n",
              "      <td>1</td>\n",
              "      <td>1</td>\n",
              "      <td>2</td>\n",
              "      <td>0</td>\n",
              "      <td>0</td>\n",
              "    </tr>\n",
              "    <tr>\n",
              "      <th>1</th>\n",
              "      <td>0</td>\n",
              "      <td>0.0</td>\n",
              "      <td>0</td>\n",
              "      <td>0.0</td>\n",
              "      <td>2</td>\n",
              "      <td>64.000000</td>\n",
              "      <td>0.00</td>\n",
              "      <td>0.10</td>\n",
              "      <td>0.0</td>\n",
              "      <td>0.0</td>\n",
              "      <td>2</td>\n",
              "      <td>2</td>\n",
              "      <td>2</td>\n",
              "      <td>1</td>\n",
              "      <td>2</td>\n",
              "      <td>2</td>\n",
              "      <td>0</td>\n",
              "      <td>0</td>\n",
              "    </tr>\n",
              "    <tr>\n",
              "      <th>2</th>\n",
              "      <td>0</td>\n",
              "      <td>0.0</td>\n",
              "      <td>0</td>\n",
              "      <td>0.0</td>\n",
              "      <td>1</td>\n",
              "      <td>0.000000</td>\n",
              "      <td>0.20</td>\n",
              "      <td>0.20</td>\n",
              "      <td>0.0</td>\n",
              "      <td>0.0</td>\n",
              "      <td>2</td>\n",
              "      <td>4</td>\n",
              "      <td>1</td>\n",
              "      <td>9</td>\n",
              "      <td>3</td>\n",
              "      <td>2</td>\n",
              "      <td>0</td>\n",
              "      <td>0</td>\n",
              "    </tr>\n",
              "    <tr>\n",
              "      <th>3</th>\n",
              "      <td>0</td>\n",
              "      <td>0.0</td>\n",
              "      <td>0</td>\n",
              "      <td>0.0</td>\n",
              "      <td>2</td>\n",
              "      <td>2.666667</td>\n",
              "      <td>0.05</td>\n",
              "      <td>0.14</td>\n",
              "      <td>0.0</td>\n",
              "      <td>0.0</td>\n",
              "      <td>2</td>\n",
              "      <td>3</td>\n",
              "      <td>2</td>\n",
              "      <td>2</td>\n",
              "      <td>4</td>\n",
              "      <td>2</td>\n",
              "      <td>0</td>\n",
              "      <td>0</td>\n",
              "    </tr>\n",
              "    <tr>\n",
              "      <th>4</th>\n",
              "      <td>0</td>\n",
              "      <td>0.0</td>\n",
              "      <td>0</td>\n",
              "      <td>0.0</td>\n",
              "      <td>10</td>\n",
              "      <td>627.500000</td>\n",
              "      <td>0.02</td>\n",
              "      <td>0.05</td>\n",
              "      <td>0.0</td>\n",
              "      <td>0.0</td>\n",
              "      <td>2</td>\n",
              "      <td>3</td>\n",
              "      <td>3</td>\n",
              "      <td>1</td>\n",
              "      <td>4</td>\n",
              "      <td>2</td>\n",
              "      <td>1</td>\n",
              "      <td>0</td>\n",
              "    </tr>\n",
              "  </tbody>\n",
              "</table>\n",
              "</div>"
            ],
            "text/plain": [
              "   Administrative  Administrative_Duration  ...  Weekend  Revenue\n",
              "0               0                      0.0  ...        0        0\n",
              "1               0                      0.0  ...        0        0\n",
              "2               0                      0.0  ...        0        0\n",
              "3               0                      0.0  ...        0        0\n",
              "4               0                      0.0  ...        1        0\n",
              "\n",
              "[5 rows x 18 columns]"
            ]
          },
          "metadata": {
            "tags": []
          },
          "execution_count": 270
        }
      ]
    },
    {
      "cell_type": "code",
      "metadata": {
        "id": "3aN6T7hLjGtC",
        "colab_type": "code",
        "colab": {}
      },
      "source": [
        "\n",
        "X = df1.loc[:, df1.columns != 'Revenue']\n",
        "y = df1.loc[:, df1.columns == 'Revenue']"
      ],
      "execution_count": 0,
      "outputs": []
    },
    {
      "cell_type": "code",
      "metadata": {
        "id": "j2RQrRVvoEmS",
        "colab_type": "code",
        "outputId": "e2d24bb0-a7a4-425e-d7ae-f660b7dcee3a",
        "colab": {
          "base_uri": "https://localhost:8080/",
          "height": 238
        }
      },
      "source": [
        "from sklearn.feature_selection import SelectKBest \n",
        "from sklearn.feature_selection import chi2 \n",
        "  \n",
        "bestfeatures = SelectKBest(score_func=chi2)\n",
        "bf = bestfeatures.fit(X,y)\n",
        "dfscores = pd.DataFrame(bf.scores_)\n",
        "dfcolumns = pd.DataFrame(X.columns)\n",
        "\n",
        "featureScores = pd.concat([dfcolumns,dfscores],axis=1)\n",
        "featureScores.columns = ['Specs','Score'] \n",
        "print(featureScores.nlargest(12,'Score'))"
      ],
      "execution_count": 272,
      "outputs": [
        {
          "output_type": "stream",
          "text": [
            "                      Specs          Score\n",
            "5   ProductRelated_Duration  877404.339415\n",
            "8                PageValues  175126.808512\n",
            "1   Administrative_Duration   41754.836841\n",
            "3    Informational_Duration   35059.775770\n",
            "4            ProductRelated   19317.285376\n",
            "0            Administrative    1133.965531\n",
            "2             Informational     357.981605\n",
            "10                    Month      86.163696\n",
            "9                SpecialDay      53.797094\n",
            "15              VisitorType      37.547523\n",
            "6               BounceRates      29.654336\n",
            "7                 ExitRates      28.985072\n"
          ],
          "name": "stdout"
        }
      ]
    },
    {
      "cell_type": "code",
      "metadata": {
        "id": "wCUYp9UfqRiM",
        "colab_type": "code",
        "outputId": "ff7b7ab3-709c-4e60-f720-29a88d9c579a",
        "colab": {
          "base_uri": "https://localhost:8080/",
          "height": 306
        }
      },
      "source": [
        "import scipy.stats as stats\n",
        "from scipy.stats import chi2_contingency\n",
        "class ChiSquare:\n",
        "    def __init__(self, dataframe):\n",
        "        self.df = dataframe\n",
        "        self.p = None #P-Value\n",
        "        self.chi2 = None #Chi Test Statistic\n",
        "        self.dof = None\n",
        "        \n",
        "        self.dfObserved = None\n",
        "        self.dfExpected = None\n",
        "        \n",
        "    def _print_chisquare_result(self, colX, alpha):\n",
        "        result = \"\"\n",
        "        if self.p<alpha:\n",
        "            result=\"{0} is IMPORTANT for Prediction\".format(colX)\n",
        "        else:\n",
        "            result=\"{0} is NOT an important predictor. (Discard {0} from model)\".format(colX)\n",
        "        print(result)\n",
        "        \n",
        "    def TestIndependence(self,colX,colY, alpha=0.05):\n",
        "        X = self.df[colX].astype(str)\n",
        "        Y = self.df[colY].astype(str)\n",
        "        \n",
        "        self.dfObserved = pd.crosstab(Y,X) \n",
        "        chi2, p, dof, expected = stats.chi2_contingency(self.dfObserved.values)\n",
        "        self.p = p\n",
        "        self.chi2 = chi2\n",
        "        self.dof = dof \n",
        "        \n",
        "        self.dfExpected = pd.DataFrame(expected, columns=self.dfObserved.columns, index = self.dfObserved.index)\n",
        "        \n",
        "        self._print_chisquare_result(colX,alpha)\n",
        "    \n",
        "#Initialize ChiSquare Class\n",
        "cT = ChiSquare(df)\n",
        "#Feature Selection\n",
        "testColumns = ['Administrative','Administrative_Duration','Informational','Informational_Duration','ProductRelated','ProductRelated_Duration','BounceRates','ExitRates','PageValues','SpecialDay',\t'Month',\t'OperatingSystems'\t,'Browser'\t,'Region','TrafficType','VisitorType','Weekend']\n",
        "for var in testColumns:\n",
        "    cT.TestIndependence(colX=var,colY=\"Revenue\" )  \n",
        "\n"
      ],
      "execution_count": 274,
      "outputs": [
        {
          "output_type": "stream",
          "text": [
            "Administrative is IMPORTANT for Prediction\n",
            "Administrative_Duration is IMPORTANT for Prediction\n",
            "Informational is IMPORTANT for Prediction\n",
            "Informational_Duration is IMPORTANT for Prediction\n",
            "ProductRelated is IMPORTANT for Prediction\n",
            "ProductRelated_Duration is IMPORTANT for Prediction\n",
            "BounceRates is IMPORTANT for Prediction\n",
            "ExitRates is IMPORTANT for Prediction\n",
            "PageValues is IMPORTANT for Prediction\n",
            "SpecialDay is IMPORTANT for Prediction\n",
            "Month is IMPORTANT for Prediction\n",
            "OperatingSystems is IMPORTANT for Prediction\n",
            "Browser is IMPORTANT for Prediction\n",
            "Region is NOT an important predictor. (Discard Region from model)\n",
            "TrafficType is IMPORTANT for Prediction\n",
            "VisitorType is IMPORTANT for Prediction\n",
            "Weekend is IMPORTANT for Prediction\n"
          ],
          "name": "stdout"
        }
      ]
    },
    {
      "cell_type": "code",
      "metadata": {
        "id": "JdWe_pTEtAiY",
        "colab_type": "code",
        "outputId": "53f92043-7ce0-4c09-f29a-7a50b0686e03",
        "colab": {
          "base_uri": "https://localhost:8080/",
          "height": 439
        }
      },
      "source": [
        "x1=df1.drop(['Region','Revenue'],axis=1)\n",
        "x1\n"
      ],
      "execution_count": 275,
      "outputs": [
        {
          "output_type": "execute_result",
          "data": {
            "text/html": [
              "<div>\n",
              "<style scoped>\n",
              "    .dataframe tbody tr th:only-of-type {\n",
              "        vertical-align: middle;\n",
              "    }\n",
              "\n",
              "    .dataframe tbody tr th {\n",
              "        vertical-align: top;\n",
              "    }\n",
              "\n",
              "    .dataframe thead th {\n",
              "        text-align: right;\n",
              "    }\n",
              "</style>\n",
              "<table border=\"1\" class=\"dataframe\">\n",
              "  <thead>\n",
              "    <tr style=\"text-align: right;\">\n",
              "      <th></th>\n",
              "      <th>Administrative</th>\n",
              "      <th>Administrative_Duration</th>\n",
              "      <th>Informational</th>\n",
              "      <th>Informational_Duration</th>\n",
              "      <th>ProductRelated</th>\n",
              "      <th>ProductRelated_Duration</th>\n",
              "      <th>BounceRates</th>\n",
              "      <th>ExitRates</th>\n",
              "      <th>PageValues</th>\n",
              "      <th>SpecialDay</th>\n",
              "      <th>Month</th>\n",
              "      <th>OperatingSystems</th>\n",
              "      <th>Browser</th>\n",
              "      <th>TrafficType</th>\n",
              "      <th>VisitorType</th>\n",
              "      <th>Weekend</th>\n",
              "    </tr>\n",
              "  </thead>\n",
              "  <tbody>\n",
              "    <tr>\n",
              "      <th>0</th>\n",
              "      <td>0</td>\n",
              "      <td>0.0</td>\n",
              "      <td>0</td>\n",
              "      <td>0.0</td>\n",
              "      <td>1</td>\n",
              "      <td>0.000000</td>\n",
              "      <td>0.200000</td>\n",
              "      <td>0.200000</td>\n",
              "      <td>0.000000</td>\n",
              "      <td>0.0</td>\n",
              "      <td>2</td>\n",
              "      <td>1</td>\n",
              "      <td>1</td>\n",
              "      <td>1</td>\n",
              "      <td>2</td>\n",
              "      <td>0</td>\n",
              "    </tr>\n",
              "    <tr>\n",
              "      <th>1</th>\n",
              "      <td>0</td>\n",
              "      <td>0.0</td>\n",
              "      <td>0</td>\n",
              "      <td>0.0</td>\n",
              "      <td>2</td>\n",
              "      <td>64.000000</td>\n",
              "      <td>0.000000</td>\n",
              "      <td>0.100000</td>\n",
              "      <td>0.000000</td>\n",
              "      <td>0.0</td>\n",
              "      <td>2</td>\n",
              "      <td>2</td>\n",
              "      <td>2</td>\n",
              "      <td>2</td>\n",
              "      <td>2</td>\n",
              "      <td>0</td>\n",
              "    </tr>\n",
              "    <tr>\n",
              "      <th>2</th>\n",
              "      <td>0</td>\n",
              "      <td>0.0</td>\n",
              "      <td>0</td>\n",
              "      <td>0.0</td>\n",
              "      <td>1</td>\n",
              "      <td>0.000000</td>\n",
              "      <td>0.200000</td>\n",
              "      <td>0.200000</td>\n",
              "      <td>0.000000</td>\n",
              "      <td>0.0</td>\n",
              "      <td>2</td>\n",
              "      <td>4</td>\n",
              "      <td>1</td>\n",
              "      <td>3</td>\n",
              "      <td>2</td>\n",
              "      <td>0</td>\n",
              "    </tr>\n",
              "    <tr>\n",
              "      <th>3</th>\n",
              "      <td>0</td>\n",
              "      <td>0.0</td>\n",
              "      <td>0</td>\n",
              "      <td>0.0</td>\n",
              "      <td>2</td>\n",
              "      <td>2.666667</td>\n",
              "      <td>0.050000</td>\n",
              "      <td>0.140000</td>\n",
              "      <td>0.000000</td>\n",
              "      <td>0.0</td>\n",
              "      <td>2</td>\n",
              "      <td>3</td>\n",
              "      <td>2</td>\n",
              "      <td>4</td>\n",
              "      <td>2</td>\n",
              "      <td>0</td>\n",
              "    </tr>\n",
              "    <tr>\n",
              "      <th>4</th>\n",
              "      <td>0</td>\n",
              "      <td>0.0</td>\n",
              "      <td>0</td>\n",
              "      <td>0.0</td>\n",
              "      <td>10</td>\n",
              "      <td>627.500000</td>\n",
              "      <td>0.020000</td>\n",
              "      <td>0.050000</td>\n",
              "      <td>0.000000</td>\n",
              "      <td>0.0</td>\n",
              "      <td>2</td>\n",
              "      <td>3</td>\n",
              "      <td>3</td>\n",
              "      <td>4</td>\n",
              "      <td>2</td>\n",
              "      <td>1</td>\n",
              "    </tr>\n",
              "    <tr>\n",
              "      <th>...</th>\n",
              "      <td>...</td>\n",
              "      <td>...</td>\n",
              "      <td>...</td>\n",
              "      <td>...</td>\n",
              "      <td>...</td>\n",
              "      <td>...</td>\n",
              "      <td>...</td>\n",
              "      <td>...</td>\n",
              "      <td>...</td>\n",
              "      <td>...</td>\n",
              "      <td>...</td>\n",
              "      <td>...</td>\n",
              "      <td>...</td>\n",
              "      <td>...</td>\n",
              "      <td>...</td>\n",
              "      <td>...</td>\n",
              "    </tr>\n",
              "    <tr>\n",
              "      <th>12325</th>\n",
              "      <td>3</td>\n",
              "      <td>145.0</td>\n",
              "      <td>0</td>\n",
              "      <td>0.0</td>\n",
              "      <td>53</td>\n",
              "      <td>1783.791667</td>\n",
              "      <td>0.007143</td>\n",
              "      <td>0.029031</td>\n",
              "      <td>12.241717</td>\n",
              "      <td>0.0</td>\n",
              "      <td>1</td>\n",
              "      <td>4</td>\n",
              "      <td>6</td>\n",
              "      <td>1</td>\n",
              "      <td>2</td>\n",
              "      <td>1</td>\n",
              "    </tr>\n",
              "    <tr>\n",
              "      <th>12326</th>\n",
              "      <td>0</td>\n",
              "      <td>0.0</td>\n",
              "      <td>0</td>\n",
              "      <td>0.0</td>\n",
              "      <td>5</td>\n",
              "      <td>465.750000</td>\n",
              "      <td>0.000000</td>\n",
              "      <td>0.021333</td>\n",
              "      <td>0.000000</td>\n",
              "      <td>0.0</td>\n",
              "      <td>7</td>\n",
              "      <td>3</td>\n",
              "      <td>2</td>\n",
              "      <td>8</td>\n",
              "      <td>2</td>\n",
              "      <td>1</td>\n",
              "    </tr>\n",
              "    <tr>\n",
              "      <th>12327</th>\n",
              "      <td>0</td>\n",
              "      <td>0.0</td>\n",
              "      <td>0</td>\n",
              "      <td>0.0</td>\n",
              "      <td>6</td>\n",
              "      <td>184.250000</td>\n",
              "      <td>0.083333</td>\n",
              "      <td>0.086667</td>\n",
              "      <td>0.000000</td>\n",
              "      <td>0.0</td>\n",
              "      <td>7</td>\n",
              "      <td>3</td>\n",
              "      <td>2</td>\n",
              "      <td>13</td>\n",
              "      <td>2</td>\n",
              "      <td>1</td>\n",
              "    </tr>\n",
              "    <tr>\n",
              "      <th>12328</th>\n",
              "      <td>4</td>\n",
              "      <td>75.0</td>\n",
              "      <td>0</td>\n",
              "      <td>0.0</td>\n",
              "      <td>15</td>\n",
              "      <td>346.000000</td>\n",
              "      <td>0.000000</td>\n",
              "      <td>0.021053</td>\n",
              "      <td>0.000000</td>\n",
              "      <td>0.0</td>\n",
              "      <td>7</td>\n",
              "      <td>2</td>\n",
              "      <td>2</td>\n",
              "      <td>11</td>\n",
              "      <td>2</td>\n",
              "      <td>0</td>\n",
              "    </tr>\n",
              "    <tr>\n",
              "      <th>12329</th>\n",
              "      <td>0</td>\n",
              "      <td>0.0</td>\n",
              "      <td>0</td>\n",
              "      <td>0.0</td>\n",
              "      <td>3</td>\n",
              "      <td>21.250000</td>\n",
              "      <td>0.000000</td>\n",
              "      <td>0.066667</td>\n",
              "      <td>0.000000</td>\n",
              "      <td>0.0</td>\n",
              "      <td>7</td>\n",
              "      <td>3</td>\n",
              "      <td>2</td>\n",
              "      <td>2</td>\n",
              "      <td>0</td>\n",
              "      <td>1</td>\n",
              "    </tr>\n",
              "  </tbody>\n",
              "</table>\n",
              "<p>12330 rows × 16 columns</p>\n",
              "</div>"
            ],
            "text/plain": [
              "       Administrative  Administrative_Duration  ...  VisitorType  Weekend\n",
              "0                   0                      0.0  ...            2        0\n",
              "1                   0                      0.0  ...            2        0\n",
              "2                   0                      0.0  ...            2        0\n",
              "3                   0                      0.0  ...            2        0\n",
              "4                   0                      0.0  ...            2        1\n",
              "...               ...                      ...  ...          ...      ...\n",
              "12325               3                    145.0  ...            2        1\n",
              "12326               0                      0.0  ...            2        1\n",
              "12327               0                      0.0  ...            2        1\n",
              "12328               4                     75.0  ...            2        0\n",
              "12329               0                      0.0  ...            0        1\n",
              "\n",
              "[12330 rows x 16 columns]"
            ]
          },
          "metadata": {
            "tags": []
          },
          "execution_count": 275
        }
      ]
    },
    {
      "cell_type": "code",
      "metadata": {
        "id": "cizCI3g6u_42",
        "colab_type": "code",
        "outputId": "c1b1171f-d449-4def-dd4b-e8c72de3b37b",
        "colab": {
          "base_uri": "https://localhost:8080/",
          "height": 289
        }
      },
      "source": [
        "from statsmodels.stats.outliers_influence import variance_inflation_factor\n",
        "\n",
        "[variance_inflation_factor(x1.values, j) for j in range(0, x1.shape[1])]"
      ],
      "execution_count": 276,
      "outputs": [
        {
          "output_type": "execute_result",
          "data": {
            "text/plain": [
              "[2.832974628329616,\n",
              " 2.0435457209605716,\n",
              " 2.1202660472787764,\n",
              " 1.7791734443255285,\n",
              " 6.667052734878279,\n",
              " 6.015458342310806,\n",
              " 7.3445880110171755,\n",
              " 11.721448181541927,\n",
              " 1.141809290951101,\n",
              " 1.132238589966835,\n",
              " 4.5787011154967505,\n",
              " 5.664150551369619,\n",
              " 2.939653458810363,\n",
              " 2.1202412032707274,\n",
              " 6.155203942986045,\n",
              " 1.2869694048866342]"
            ]
          },
          "metadata": {
            "tags": []
          },
          "execution_count": 276
        }
      ]
    },
    {
      "cell_type": "code",
      "metadata": {
        "id": "sxCKTx75vy9f",
        "colab_type": "code",
        "colab": {}
      },
      "source": [
        "# removing collinear variables\n",
        "# function definition\n",
        "\n",
        "def calculate_vif(x):\n",
        "    thresh = 5.0\n",
        "    output = pd.DataFrame()\n",
        "    k = x.shape[1]\n",
        "    vif = [variance_inflation_factor(x.values, j) for j in range(x.shape[1])]\n",
        "    for i in range(1,k):\n",
        "        print(\"Iteration no.\",i)\n",
        "        print(vif)\n",
        "        a = np.argmax(vif)\n",
        "        print(\"Max VIF is for variable no.:\",a)\n",
        "        if vif[a] <= thresh :\n",
        "            break\n",
        "        if i == 1 :          \n",
        "            output = x.drop(x.columns[a], axis = 1)\n",
        "            vif = [variance_inflation_factor(output.values, j) for j in range(output.shape[1])]\n",
        "        elif i > 1 :\n",
        "            output = output.drop(output.columns[a],axis = 1)\n",
        "            vif = [variance_inflation_factor(output.values, j) for j in range(output.shape[1])]\n",
        "    return(output)"
      ],
      "execution_count": 0,
      "outputs": []
    },
    {
      "cell_type": "code",
      "metadata": {
        "id": "lFeI9v5xv740",
        "colab_type": "code",
        "outputId": "1146840a-f469-4c49-bdab-a86c9a19969a",
        "colab": {
          "base_uri": "https://localhost:8080/",
          "height": 241
        }
      },
      "source": [
        "train_out = calculate_vif(x1)"
      ],
      "execution_count": 278,
      "outputs": [
        {
          "output_type": "stream",
          "text": [
            "Iteration no. 1\n",
            "[2.832974628329616, 2.0435457209605716, 2.1202660472787764, 1.7791734443255285, 6.667052734878279, 6.015458342310806, 7.3445880110171755, 11.721448181541927, 1.141809290951101, 1.132238589966835, 4.5787011154967505, 5.664150551369619, 2.939653458810363, 2.1202412032707274, 6.155203942986045, 1.2869694048866342]\n",
            "Max VIF is for variable no.: 7\n",
            "Iteration no. 2\n",
            "[2.805032109610874, 2.0431400436061478, 2.1201644302850573, 1.7791605709102856, 6.5453042776530435, 6.007781995023713, 1.3388081451192675, 1.1300470719163618, 1.129017961656717, 4.509053234046369, 5.587819170959217, 2.915098741887083, 2.116866558491716, 5.406955209108203, 1.2869534880236462]\n",
            "Max VIF is for variable no.: 4\n",
            "Iteration no. 3\n",
            "[2.5846226018965632, 1.967882443417845, 2.105248161149276, 1.7610781888756497, 1.905426379075286, 1.3338799858197803, 1.1300055572257683, 1.1280084648558746, 4.504872261439133, 5.586535873984855, 2.915054991261503, 2.116410373046675, 5.368146915462325, 1.286685283533884]\n",
            "Max VIF is for variable no.: 9\n",
            "Iteration no. 4\n",
            "[2.573558084270589, 1.9678785428391237, 2.1051367972267627, 1.7608330187675219, 1.9051825868603178, 1.3296376555362166, 1.126322015080069, 1.1280069500395618, 4.254826731051651, 2.5512997819130963, 1.9994961842513805, 4.776638451128595, 1.2776742875051934]\n",
            "Max VIF is for variable no.: 11\n"
          ],
          "name": "stdout"
        }
      ]
    },
    {
      "cell_type": "code",
      "metadata": {
        "id": "e35V3Xc_wDDW",
        "colab_type": "code",
        "outputId": "2d15d1b4-4c09-4962-dad8-640109f02ea8",
        "colab": {
          "base_uri": "https://localhost:8080/",
          "height": 439
        }
      },
      "source": [
        "X=train_out\n",
        "X"
      ],
      "execution_count": 279,
      "outputs": [
        {
          "output_type": "execute_result",
          "data": {
            "text/html": [
              "<div>\n",
              "<style scoped>\n",
              "    .dataframe tbody tr th:only-of-type {\n",
              "        vertical-align: middle;\n",
              "    }\n",
              "\n",
              "    .dataframe tbody tr th {\n",
              "        vertical-align: top;\n",
              "    }\n",
              "\n",
              "    .dataframe thead th {\n",
              "        text-align: right;\n",
              "    }\n",
              "</style>\n",
              "<table border=\"1\" class=\"dataframe\">\n",
              "  <thead>\n",
              "    <tr style=\"text-align: right;\">\n",
              "      <th></th>\n",
              "      <th>Administrative</th>\n",
              "      <th>Administrative_Duration</th>\n",
              "      <th>Informational</th>\n",
              "      <th>Informational_Duration</th>\n",
              "      <th>ProductRelated_Duration</th>\n",
              "      <th>BounceRates</th>\n",
              "      <th>PageValues</th>\n",
              "      <th>SpecialDay</th>\n",
              "      <th>Month</th>\n",
              "      <th>Browser</th>\n",
              "      <th>TrafficType</th>\n",
              "      <th>VisitorType</th>\n",
              "      <th>Weekend</th>\n",
              "    </tr>\n",
              "  </thead>\n",
              "  <tbody>\n",
              "    <tr>\n",
              "      <th>0</th>\n",
              "      <td>0</td>\n",
              "      <td>0.0</td>\n",
              "      <td>0</td>\n",
              "      <td>0.0</td>\n",
              "      <td>0.000000</td>\n",
              "      <td>0.200000</td>\n",
              "      <td>0.000000</td>\n",
              "      <td>0.0</td>\n",
              "      <td>2</td>\n",
              "      <td>1</td>\n",
              "      <td>1</td>\n",
              "      <td>2</td>\n",
              "      <td>0</td>\n",
              "    </tr>\n",
              "    <tr>\n",
              "      <th>1</th>\n",
              "      <td>0</td>\n",
              "      <td>0.0</td>\n",
              "      <td>0</td>\n",
              "      <td>0.0</td>\n",
              "      <td>64.000000</td>\n",
              "      <td>0.000000</td>\n",
              "      <td>0.000000</td>\n",
              "      <td>0.0</td>\n",
              "      <td>2</td>\n",
              "      <td>2</td>\n",
              "      <td>2</td>\n",
              "      <td>2</td>\n",
              "      <td>0</td>\n",
              "    </tr>\n",
              "    <tr>\n",
              "      <th>2</th>\n",
              "      <td>0</td>\n",
              "      <td>0.0</td>\n",
              "      <td>0</td>\n",
              "      <td>0.0</td>\n",
              "      <td>0.000000</td>\n",
              "      <td>0.200000</td>\n",
              "      <td>0.000000</td>\n",
              "      <td>0.0</td>\n",
              "      <td>2</td>\n",
              "      <td>1</td>\n",
              "      <td>3</td>\n",
              "      <td>2</td>\n",
              "      <td>0</td>\n",
              "    </tr>\n",
              "    <tr>\n",
              "      <th>3</th>\n",
              "      <td>0</td>\n",
              "      <td>0.0</td>\n",
              "      <td>0</td>\n",
              "      <td>0.0</td>\n",
              "      <td>2.666667</td>\n",
              "      <td>0.050000</td>\n",
              "      <td>0.000000</td>\n",
              "      <td>0.0</td>\n",
              "      <td>2</td>\n",
              "      <td>2</td>\n",
              "      <td>4</td>\n",
              "      <td>2</td>\n",
              "      <td>0</td>\n",
              "    </tr>\n",
              "    <tr>\n",
              "      <th>4</th>\n",
              "      <td>0</td>\n",
              "      <td>0.0</td>\n",
              "      <td>0</td>\n",
              "      <td>0.0</td>\n",
              "      <td>627.500000</td>\n",
              "      <td>0.020000</td>\n",
              "      <td>0.000000</td>\n",
              "      <td>0.0</td>\n",
              "      <td>2</td>\n",
              "      <td>3</td>\n",
              "      <td>4</td>\n",
              "      <td>2</td>\n",
              "      <td>1</td>\n",
              "    </tr>\n",
              "    <tr>\n",
              "      <th>...</th>\n",
              "      <td>...</td>\n",
              "      <td>...</td>\n",
              "      <td>...</td>\n",
              "      <td>...</td>\n",
              "      <td>...</td>\n",
              "      <td>...</td>\n",
              "      <td>...</td>\n",
              "      <td>...</td>\n",
              "      <td>...</td>\n",
              "      <td>...</td>\n",
              "      <td>...</td>\n",
              "      <td>...</td>\n",
              "      <td>...</td>\n",
              "    </tr>\n",
              "    <tr>\n",
              "      <th>12325</th>\n",
              "      <td>3</td>\n",
              "      <td>145.0</td>\n",
              "      <td>0</td>\n",
              "      <td>0.0</td>\n",
              "      <td>1783.791667</td>\n",
              "      <td>0.007143</td>\n",
              "      <td>12.241717</td>\n",
              "      <td>0.0</td>\n",
              "      <td>1</td>\n",
              "      <td>6</td>\n",
              "      <td>1</td>\n",
              "      <td>2</td>\n",
              "      <td>1</td>\n",
              "    </tr>\n",
              "    <tr>\n",
              "      <th>12326</th>\n",
              "      <td>0</td>\n",
              "      <td>0.0</td>\n",
              "      <td>0</td>\n",
              "      <td>0.0</td>\n",
              "      <td>465.750000</td>\n",
              "      <td>0.000000</td>\n",
              "      <td>0.000000</td>\n",
              "      <td>0.0</td>\n",
              "      <td>7</td>\n",
              "      <td>2</td>\n",
              "      <td>8</td>\n",
              "      <td>2</td>\n",
              "      <td>1</td>\n",
              "    </tr>\n",
              "    <tr>\n",
              "      <th>12327</th>\n",
              "      <td>0</td>\n",
              "      <td>0.0</td>\n",
              "      <td>0</td>\n",
              "      <td>0.0</td>\n",
              "      <td>184.250000</td>\n",
              "      <td>0.083333</td>\n",
              "      <td>0.000000</td>\n",
              "      <td>0.0</td>\n",
              "      <td>7</td>\n",
              "      <td>2</td>\n",
              "      <td>13</td>\n",
              "      <td>2</td>\n",
              "      <td>1</td>\n",
              "    </tr>\n",
              "    <tr>\n",
              "      <th>12328</th>\n",
              "      <td>4</td>\n",
              "      <td>75.0</td>\n",
              "      <td>0</td>\n",
              "      <td>0.0</td>\n",
              "      <td>346.000000</td>\n",
              "      <td>0.000000</td>\n",
              "      <td>0.000000</td>\n",
              "      <td>0.0</td>\n",
              "      <td>7</td>\n",
              "      <td>2</td>\n",
              "      <td>11</td>\n",
              "      <td>2</td>\n",
              "      <td>0</td>\n",
              "    </tr>\n",
              "    <tr>\n",
              "      <th>12329</th>\n",
              "      <td>0</td>\n",
              "      <td>0.0</td>\n",
              "      <td>0</td>\n",
              "      <td>0.0</td>\n",
              "      <td>21.250000</td>\n",
              "      <td>0.000000</td>\n",
              "      <td>0.000000</td>\n",
              "      <td>0.0</td>\n",
              "      <td>7</td>\n",
              "      <td>2</td>\n",
              "      <td>2</td>\n",
              "      <td>0</td>\n",
              "      <td>1</td>\n",
              "    </tr>\n",
              "  </tbody>\n",
              "</table>\n",
              "<p>12330 rows × 13 columns</p>\n",
              "</div>"
            ],
            "text/plain": [
              "       Administrative  Administrative_Duration  ...  VisitorType  Weekend\n",
              "0                   0                      0.0  ...            2        0\n",
              "1                   0                      0.0  ...            2        0\n",
              "2                   0                      0.0  ...            2        0\n",
              "3                   0                      0.0  ...            2        0\n",
              "4                   0                      0.0  ...            2        1\n",
              "...               ...                      ...  ...          ...      ...\n",
              "12325               3                    145.0  ...            2        1\n",
              "12326               0                      0.0  ...            2        1\n",
              "12327               0                      0.0  ...            2        1\n",
              "12328               4                     75.0  ...            2        0\n",
              "12329               0                      0.0  ...            0        1\n",
              "\n",
              "[12330 rows x 13 columns]"
            ]
          },
          "metadata": {
            "tags": []
          },
          "execution_count": 279
        }
      ]
    },
    {
      "cell_type": "code",
      "metadata": {
        "id": "00jYTkFvM1NX",
        "colab_type": "code",
        "outputId": "92bd3474-c5e1-4329-8044-94559c15d73a",
        "colab": {
          "base_uri": "https://localhost:8080/",
          "height": 411
        }
      },
      "source": [
        "import matplotlib.ticker as mtick\n",
        "colors = ['darkorchid','steelblue']\n",
        "contract_churn = df.groupby(['VisitorType','Revenue']).size().unstack()\n",
        "\n",
        "ax = (contract_churn.T*100.0 / contract_churn.T.sum()).T.plot(kind='bar',\n",
        "                                                                width = 0.3,\n",
        "                                                                stacked = True,\n",
        "                                                                rot = 0, \n",
        "                                                                figsize = (10,6),\n",
        "                                                                color = colors)\n",
        "ax.yaxis.set_major_formatter(mtick.PercentFormatter())\n",
        "ax.legend(loc='best',prop={'size':14},title = 'Churn')\n",
        "ax.set_ylabel('% Customers',size = 14)\n",
        "ax.set_title('Revenue by Visitors Type',size = 14)\n",
        "\n",
        "# Code to add the data labels on the stacked bar chart\n",
        "for p in ax.patches:\n",
        "    width, height = p.get_width(), p.get_height()\n",
        "    x, y = p.get_xy() \n",
        "    ax.annotate('{:.0f}%'.format(height), (p.get_x()+.25*width, p.get_y()+.4*height),\n",
        "                color = 'white',\n",
        "               weight = 'bold',\n",
        "                 size = 14)"
      ],
      "execution_count": 280,
      "outputs": [
        {
          "output_type": "display_data",
          "data": {
            "image/png": "[encoded data removed]",
            "text/plain": [
              "<Figure size 720x432 with 1 Axes>"
            ]
          },
          "metadata": {
            "tags": []
          }
        }
      ]
    },
    {
      "cell_type": "code",
      "metadata": {
        "id": "6BSHc44O-u9_",
        "colab_type": "code",
        "colab": {
          "base_uri": "https://localhost:8080/",
          "height": 454
        },
        "outputId": "a870c444-4d3d-461c-ee4d-801a73610714"
      },
      "source": [
        "df_3 = pd.melt(df[['ProductRelated_Duration','Administrative_Duration','Informational_Duration','Revenue']], id_vars='Revenue', var_name=\"Type\", value_name=\"Count\")\n",
        "sns.factorplot(x='Revenue', y='Count', hue='Type', data=df_3, kind='bar',palette = 'inferno')\n",
        "plt.title('Revenue By Duration', fontsize = 15)"
      ],
      "execution_count": 296,
      "outputs": [
        {
          "output_type": "stream",
          "text": [
            "/usr/local/lib/python3.6/dist-packages/seaborn/categorical.py:3666: UserWarning: The `factorplot` function has been renamed to `catplot`. The original name will be removed in a future release. Please update your code. Note that the default `kind` in `factorplot` (`'point'`) has changed `'strip'` in `catplot`.\n",
            "  warnings.warn(msg)\n"
          ],
          "name": "stderr"
        },
        {
          "output_type": "execute_result",
          "data": {
            "text/plain": [
              "Text(0.5, 1.0, 'Revenue By Duration')"
            ]
          },
          "metadata": {
            "tags": []
          },
          "execution_count": 296
        },
        {
          "output_type": "display_data",
          "data": {
            "image/png": "[encoded data removed]",
            "text/plain": [
              "<Figure size 537.1x360 with 1 Axes>"
            ]
          },
          "metadata": {
            "tags": []
          }
        }
      ]
    },
    {
      "cell_type": "code",
      "metadata": {
        "id": "PUkSrwHw5K90",
        "colab_type": "code",
        "outputId": "745797b9-4d76-41c1-a768-835b506d9db8",
        "colab": {
          "base_uri": "https://localhost:8080/",
          "height": 388
        }
      },
      "source": [
        "df.groupby('Month').Revenue.sum().plot(kind='bar', figsize=(10,5),color = ['cyan', 'crimson','blue','green','violet','pink','black','orange','grey','brown'])\n",
        "plt.title('Revenue Per Month', fontsize = 15)\n",
        "plt.ylabel('Total Revenue')"
      ],
      "execution_count": 285,
      "outputs": [
        {
          "output_type": "execute_result",
          "data": {
            "text/plain": [
              "Text(0, 0.5, 'Total Revenue')"
            ]
          },
          "metadata": {
            "tags": []
          },
          "execution_count": 285
        },
        {
          "output_type": "display_data",
          "data": {
            "image/png": "[encoded data removed]",
            "text/plain": [
              "<Figure size 720x360 with 1 Axes>"
            ]
          },
          "metadata": {
            "tags": []
          }
        }
      ]
    },
    {
      "cell_type": "code",
      "metadata": {
        "id": "-3NVHrgb9Tz-",
        "colab_type": "code",
        "outputId": "4b5fac29-ef3f-4edf-c33e-993b4d5b0201",
        "colab": {
          "base_uri": "https://localhost:8080/",
          "height": 388
        }
      },
      "source": [
        "df.groupby('Month').SpecialDay.sum().plot(kind='bar', figsize=(10,5),color = ['cyan', 'pink','violet','black','crimson'])\n",
        "plt.title('Revenue On Special Day', fontsize = 15)\n",
        "plt.ylabel('Total Revenue')"
      ],
      "execution_count": 286,
      "outputs": [
        {
          "output_type": "execute_result",
          "data": {
            "text/plain": [
              "Text(0, 0.5, 'Total Revenue')"
            ]
          },
          "metadata": {
            "tags": []
          },
          "execution_count": 286
        },
        {
          "output_type": "display_data",
          "data": {
            "image/png": "[encoded data removed]",
            "text/plain": [
              "<Figure size 720x360 with 1 Axes>"
            ]
          },
          "metadata": {
            "tags": []
          }
        }
      ]
    },
    {
      "cell_type": "code",
      "metadata": {
        "id": "hTdeEyhCFbYy",
        "colab_type": "code",
        "colab": {
          "base_uri": "https://localhost:8080/",
          "height": 285
        },
        "outputId": "9fc22436-5b3d-412c-de13-a41edaa0868f"
      },
      "source": [
        "ax = sns.barplot(\"Revenue\", y=\"Browser\", data=df)"
      ],
      "execution_count": 292,
      "outputs": [
        {
          "output_type": "display_data",
          "data": {
            "image/png": "[encoded data removed]",
            "text/plain": [
              "<Figure size 432x288 with 1 Axes>"
            ]
          },
          "metadata": {
            "tags": []
          }
        }
      ]
    },
    {
      "cell_type": "code",
      "metadata": {
        "id": "4o_fe4gDUYmE",
        "colab_type": "code",
        "colab": {
          "base_uri": "https://localhost:8080/",
          "height": 195
        },
        "outputId": "b3a7fa91-9595-4dbd-a3c4-b8d89437072d"
      },
      "source": [
        "plt.figure(figsize=(10,8))\n",
        "\n",
        "ax1 = plt.subplot(311)\n",
        "sns.kdeplot(df[df.Revenue == True].BounceRates)\n",
        "sns.kdeplot(df[df.Revenue == False].BounceRates)\n",
        "plt.ylabel('BounceRates')\n",
        "plt.legend(title='Revenue', loc='upper right', labels=['True', 'False'])\n"
      ],
      "execution_count": 290,
      "outputs": [
        {
          "output_type": "execute_result",
          "data": {
            "text/plain": [
              "<matplotlib.legend.Legend at 0x7fabcb584278>"
            ]
          },
          "metadata": {
            "tags": []
          },
          "execution_count": 290
        },
        {
          "output_type": "display_data",
          "data": {
            "image/png": "[encoded data removed]",
            "text/plain": [
              "<Figure size 720x576 with 1 Axes>"
            ]
          },
          "metadata": {
            "tags": []
          }
        }
      ]
    },
    {
      "cell_type": "code",
      "metadata": {
        "id": "EGeqUzDLhC5V",
        "colab_type": "code",
        "colab": {}
      },
      "source": [
        "from sklearn.model_selection import train_test_split\n",
        "X_train, X_test, y_train, y_test = train_test_split(X, y, test_size=0.3, random_state=0)\n",
        "\n",
        "print(\"Number transactions X_train dataset: \", X_train.shape)\n",
        "print(\"Number transactions y_train dataset: \", y_train.shape)\n",
        "print(\"Number transactions X_test dataset: \", X_test.shape)\n",
        "print(\"Number transactions y_test dataset: \", y_test.shape)"
      ],
      "execution_count": 0,
      "outputs": []
    },
    {
      "cell_type": "code",
      "metadata": {
        "id": "1nvBJt2ii7K-",
        "colab_type": "code",
        "colab": {}
      },
      "source": [
        "sm = SMOTE(random_state=0)\n",
        "X_train, y_train = sm.fit_sample(X_train, y_train)\n",
        "\n",
        "print('After OverSampling, the shape of train_X: {}'.format(X_train.shape))\n",
        "print('After OverSampling, the shape of train_y: {} \\n'.format(y_train.shape))\n",
        "\n",
        "print(\"After OverSampling, counts of label '1': {}\".format(sum(y_train==1)))\n",
        "print(\"After OverSampling, counts of label '0': {}\".format(sum(y_train==0)))"
      ],
      "execution_count": 0,
      "outputs": []
    },
    {
      "cell_type": "code",
      "metadata": {
        "id": "sB1vtL4EkNjh",
        "colab_type": "code",
        "colab": {
          "base_uri": "https://localhost:8080/",
          "height": 314
        },
        "outputId": "357d3d01-c690-4b65-898e-912fb2109272"
      },
      "source": [
        "\n",
        "sns.set(style=\"whitegrid\")\n",
        "\n",
        "ax=sns.countplot(x=y_train,palette=\"viridis\", data=df)\n",
        "ax.set_xticklabels([\"No\",\"Yes\"])\n",
        "ax.set_ylabel(\"Count\")\n",
        "ax.set_xlabel(\"Revenue\")\n",
        "suptitle(\"Distribution of Revenue After Oversampling\")\n",
        "despine()"
      ],
      "execution_count": 299,
      "outputs": [
        {
          "output_type": "display_data",
          "data": {
            "image/png": "[encoded data removed]",
            "text/plain": [
              "<Figure size 432x288 with 1 Axes>"
            ]
          },
          "metadata": {
            "tags": []
          }
        }
      ]
    },
    {
      "cell_type": "code",
      "metadata": {
        "id": "0EZ1yP3jhJh3",
        "colab_type": "code",
        "colab": {}
      },
      "source": [
        "from sklearn.model_selection import KFold, cross_val_score\n",
        "from sklearn.linear_model import LogisticRegression\n",
        "from sklearn.ensemble import RandomForestClassifier\n",
        "from sklearn.tree import DecisionTreeClassifier\n",
        "from sklearn import metrics\n",
        "from sklearn.metrics import confusion_matrix, classification_report\n",
        "from sklearn.metrics import accuracy_score, precision_score, recall_score, f1_score, log_loss, fbeta_score\n",
        "from sklearn.metrics import auc, roc_curve, roc_auc_score, precision_recall_curve\n",
        "import time"
      ],
      "execution_count": 0,
      "outputs": []
    },
    {
      "cell_type": "code",
      "metadata": {
        "id": "Dqwx425WhSFC",
        "colab_type": "code",
        "colab": {}
      },
      "source": [
        "def model_report(model_name, model):\n",
        "    print('\\nSearch for OPTIMAL THRESHOLD, vary from 0.0001 to 0.9999, fit/predict on train/test data')\n",
        "    model.fit(X_train, y_train)\n",
        "    optimal_th = 0.5   # start with default threshold value\n",
        "    \n",
        "    for i in range(0,3):\n",
        "        score_list = []\n",
        "        print('\\nLooping decimal place', i+1) \n",
        "        th_list = [np.linspace(optimal_th-0.4999, optimal_th+0.4999, 11), \n",
        "                  # eg [ 0.0001 , 0.1008, 0.2006, 0.3004, 0.4002, 0.5, 0.5998, 0.6996, 0.7994, 0.8992, 0.9999 ]\n",
        "                 np.linspace(optimal_th-0.1, optimal_th+0.1, 21), \n",
        "                  # eg 0.3xx [ 0.2 , 0.21, 0.22, 0.23, 0.24, 0.25, 0.26, 0.27, 0.28, 0.29, 0.3 , 0.31, 0.32, 0.33, 0.34, 0.35, 0.36, 0.37, 0.38, 0.39, 0.4 ]\n",
        "                 np.linspace(optimal_th-0.01, optimal_th+0.01, 21)]\n",
        "                  # eg 0.30x [ 0.29 , 0.291, 0.292, 0.293, 0.294, 0.295, 0.296, 0.297, 0.298, 0.299, 0.3  , 0.301, 0.302, 0.303, 0.304, 0.305, 0.306, 0.307, 0.308, 0.309, 0.31 ]\n",
        "        for th in th_list[i]:\n",
        "            y_pred = (model.predict_proba(X_test)[:,1] >= th)\n",
        "            f1scor = f1_score(y_test, y_pred)\n",
        "            score_list.append(f1scor)\n",
        "            print('{:.3f}->{:.4f}'.format(th, f1scor), end=',  ')   # display score in 4 decimal pl\n",
        "        optimal_th = float(th_list[i][score_list.index(max(score_list))])\n",
        "\n",
        "    print('optimal F1 score = {:.4f}'.format(max(score_list)))\n",
        "    print('optimal threshold = {:.3f}'.format(optimal_th))\n",
        "\n",
        "    print(model_name, 'accuracy score is')\n",
        "    print('Training: {:.2f}%'.format(100*model.score(X_train, y_train)))  # score uses accuracy\n",
        "    print('Test set: {:.2f}%'.format(100*model.score(X_test, y_test)))   # should use cross validation\n",
        "\n",
        "    y_pred2 = model.predict(X_train)\n",
        "    print('Precision: {:.4f},   Recall: {:.4f},   F1 Score: {:.4f}'.format(\n",
        "        precision_score(y_train, y_pred2), recall_score(y_train, y_pred2), f1_score(y_train, y_pred2)))\n",
        "    print(model_name, 'confusion matrix: \\n', confusion_matrix(y_train, y_pred2))\n",
        "    tn, fp, fn, tp = confusion_matrix(y_train, y_pred2).ravel()\n",
        "    specificity = tn / (tn+fp)\n",
        "    sensitivity = tp / (tp+fn)\n",
        "    print(\"sensitivity: \",round(sensitivity*100,4),\"%\")\n",
        "    print(\"specificity: \", round(specificity*100,4),\"%\")\n",
        "    \n",
        "    y_pred = model.predict(X_test)\n",
        "    print('\\nDefault threshold of 0.50:')\n",
        "    print('Precision: {:.4f},   Recall: {:.4f},   F1 Score: {:.4f}'.format(\n",
        "        precision_score(y_test, y_pred), recall_score(y_test, y_pred), f1_score(y_test, y_pred)))\n",
        "    print(model_name, 'confusion matrix: \\n', confusion_matrix(y_test, y_pred))\n",
        "    tn, fp, fn, tp = confusion_matrix(y_test, y_pred).ravel()\n",
        "    specificity = tn / (tn+fp)\n",
        "    sensitivity = tp / (tp+fn)\n",
        "    print(\"sensitivity: \",round(sensitivity*100,4),\"%\")\n",
        "    print(\"specificity: \", round(specificity*100,4),\"%\")\n",
        "    \n",
        "    global  model_roc_auc\n",
        "    y_pred2 = model.predict(X_train)\n",
        "    model_roc_auc = roc_auc_score(y_train, y_pred2)\n",
        "    print(model_name, 'roc_auc_score: {:.4f}'.format(model_roc_auc))\n",
        "    fpr, tpr, thresholds = roc_curve(y_train, y_pred2) \n",
        "\n",
        "\n",
        "    # plot the ROC curve\n",
        "    plt.figure(figsize = [6,6])\n",
        "    plt.plot(fpr, tpr, label='ROC curve (area = %0.2f)' % model_roc_auc)\n",
        "    plt.plot([0, 1], [0, 1],'r--')\n",
        "    plt.xlim([0.0, 1.0])\n",
        "    plt.ylim([0.0, 1.0])\n",
        "    plt.xlabel('False Positive Rate')\n",
        "    plt.ylabel('True Positive Rate')\n",
        "    plt.title('Receiver Operating Characteristic')\n",
        "    plt.legend(loc=\"lower right\")\n",
        "    # plt.savefig('roc_auc_score')\n",
        "    plt.show()\n",
        "\n",
        "\n",
        "    y_pred = model.predict(X_test)\n",
        "    model_roc_auc = roc_auc_score(y_test, y_pred)\n",
        "    print(model_name, 'roc_auc_score: {:.4f}'.format(model_roc_auc)) \n",
        "    fpr, tpr, thresholds = roc_curve(y_test, y_pred) \n",
        "\n",
        "    # plot the ROC curve\n",
        "    plt.figure(figsize = [6,6])\n",
        "    plt.plot(fpr, tpr, label='ROC curve (area = %0.2f)' % model_roc_auc)\n",
        "    plt.plot([0, 1], [0, 1],'r--')\n",
        "    plt.xlim([0.0, 1.0])\n",
        "    plt.ylim([0.0, 1.0])\n",
        "    plt.xlabel('False Positive Rate')\n",
        "    plt.ylabel('True Positive Rate')\n",
        "    plt.title('Receiver Operating Characteristic')\n",
        "    plt.legend(loc=\"lower right\")\n",
        "    # plt.savefig('roc_auc_score')\n",
        "    plt.show()\n",
        "  \n",
        "    return\n",
        "\n",
        "# initialise lists to collect the results to plot later\n",
        "model_list = []\n",
        "f1_list = []\n",
        "auc_list = []\n",
        "ll_list = []\n",
        "roc_auc_list = []\n",
        "time_list = []"
      ],
      "execution_count": 0,
      "outputs": []
    },
    {
      "cell_type": "code",
      "metadata": {
        "id": "XZQte8889PxE",
        "colab_type": "code",
        "colab": {}
      },
      "source": [
        "print('\\n\"\"\"\"\"\" DecisionTreeClassifier \"\"\"\"\"\"')\n",
        "\n",
        "print('\\nSearch for optimal max_depth in DecisionTree, vary 2 to 10, using KFold(5) Cross Validation on train data')\n",
        "kf = KFold(n_splits=5, shuffle=True)  #produce the k folds\n",
        "d_scores = []\n",
        "for d in range(2, 11):\n",
        "    decisiontree = DecisionTreeClassifier(max_depth=d)\n",
        "    cvs = cross_val_score(decisiontree, X_train, y_train, cv=kf, scoring='f1').mean()\n",
        "    d_scores.append(cvs)\n",
        "    print('{:.4f}'.format(cvs), end=\", \")\n",
        "print('optimal F1 score = {:.4f}'.format(max(d_scores)))   # 4 decimal pl\n",
        "optimal_d = d_scores.index(max(d_scores))+2   # index 0 is for d=2\n",
        "print('optimal max_depth =', optimal_d)\n",
        "\n",
        "time1 = time.time()\n",
        "decisiontree = DecisionTreeClassifier(max_depth=optimal_d)\n",
        "model_report('DecisionTreeClassifier', decisiontree)\n",
        "\n",
        "model_list.append('DecisionTreeClassifier')\n",
        "roc_auc_list.append(model_roc_auc)\n",
        "time_list.append(time.time() - time1)"
      ],
      "execution_count": 0,
      "outputs": []
    },
    {
      "cell_type": "code",
      "metadata": {
        "id": "7V43Ih1zUY50",
        "colab_type": "code",
        "colab": {}
      },
      "source": [
        "print('\\n\"\"\"\"\"\" LogisticRegression \"\"\"\"\"\"')\n",
        "print('\\nSearch for optimal hyperparameter C in LogisticRegresssion, vary C from 0.001 to 1000, using KFold(5) Cross Validation on train data')\n",
        "kf = KFold(n_splits=5, shuffle=True)  #produce the k folds\n",
        "score_list = []\n",
        "c_list = 10**np.linspace(-3,3,200)\n",
        "for c in c_list:\n",
        "    logit = LogisticRegression(C = c)\n",
        "    cvs = (cross_val_score(logit, X_train, y_train, cv=kf, scoring='f1')).mean()\n",
        "    score_list.append(cvs)\n",
        "    print('{:.4f}'.format(cvs), end=\", \")   # 4 decimal pl\n",
        "print('optimal cv F1 score = {:.4f}'.format(max(score_list)))\n",
        "optimal_c = float(c_list[score_list.index(max(score_list))])\n",
        "print('optimal value of C = {:.3f}'.format(optimal_c))\n",
        "\n",
        "time1 = time.time()\n",
        "logit = LogisticRegression(C = optimal_c)\n",
        "model_report('LogisticRegression', logit)\n",
        "\n",
        "model_list.append('LogisticRegression')\n",
        "f1_list.append(model_f1)\n",
        "auc_list.append(model_auc)\n",
        "ll_list.append(model_ll)\n",
        "roc_auc_list.append(model_roc_auc)\n",
        "time_list.append(time.time() - time1)"
      ],
      "execution_count": 0,
      "outputs": []
    },
    {
      "cell_type": "code",
      "metadata": {
        "id": "hml91x5mkC6b",
        "colab_type": "code",
        "colab": {}
      },
      "source": [
        "print('\\n\"\"\"\"\"\" RandomForestClassifier \"\"\"\"\"\" (quite slow)')\n",
        "\n",
        "print('\\nSearch for optimal n_estimators in RandomForest, vary 100 to 500, using KFold(5) Cross Validation on train data')\n",
        "kf = KFold(n_splits=5, shuffle=True)  #produce the k folds\n",
        "score_list = []\n",
        "n_list = []\n",
        "for n in [100, 150, 200, 250, 300, 350, 400, 450, 500]:\n",
        "    randomforest = RandomForestClassifier(n_estimators=n)\n",
        "    cvs = (cross_val_score(randomforest, X_train, y_train, cv=kf, scoring='f1')).mean()\n",
        "    score_list.append(cvs)\n",
        "    n_list.append(n)\n",
        "    print('{:.0f}->{:.4f}'.format(n, cvs), end=\", \")   # display score in 4 decimal place\n",
        "print('optimal F1 score = {:.4f}'.format(max(score_list)))\n",
        "optimal_n = int(n_list[score_list.index(max(score_list))])\n",
        "print('optimal n_estimators = {:.0f}'.format(optimal_n))\n",
        "\n",
        "time1 = time.time()\n",
        "randomforest = RandomForestClassifier(n_estimators=optimal_n)\n",
        "model_report('RandomForestClassifier', randomforest)\n",
        "\n",
        "model_list.append('RandomForestClassifier')\n",
        "f1_list.append(model_f1)\n",
        "auc_list.append(model_auc)\n",
        "ll_list.append(model_ll)\n",
        "roc_auc_list.append(model_roc_auc)\n",
        "time_list.append(time.time() - time1)\n"
      ],
      "execution_count": 0,
      "outputs": []
    }
  ]
}